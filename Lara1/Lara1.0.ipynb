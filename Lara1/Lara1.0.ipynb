{
 "cells": [
  {
   "cell_type": "markdown",
   "metadata": {},
   "source": [
    "Criar um bot de trading utilizando IA para operar no mini-índice Bovespa (WIN) no MetaTrader 5 com Python envolve várias etapas, desde a coleta de dados até a implementação do modelo de inteligência artificial para tomar decisões de compra e venda.\n",
    "\n",
    "Aqui estão os passos principais:\n",
    "1. Configuração do Ambiente\n",
    "Primeiramente, você precisa configurar o ambiente para o seu bot funcionar corretamente.\n",
    "\n",
    "1.1 Instalar Bibliotecas Necessárias\n",
    "Você precisa instalar algumas bibliotecas Python, como MetaTrader5, pandas, numpy, e bibliotecas de aprendizado de máquina como scikit-learn ou tensorflow para IA.\n",
    "\n",
    "Execute o comando:"
   ]
  },
  {
   "cell_type": "code",
   "execution_count": 3,
   "metadata": {},
   "outputs": [
    {
     "ename": "SyntaxError",
     "evalue": "invalid syntax (1580106967.py, line 1)",
     "output_type": "error",
     "traceback": [
      "\u001b[1;36m  Cell \u001b[1;32mIn[3], line 1\u001b[1;36m\u001b[0m\n\u001b[1;33m    pip install MetaTrader5 pandas numpy scikit-learn tensorflow\u001b[0m\n\u001b[1;37m        ^\u001b[0m\n\u001b[1;31mSyntaxError\u001b[0m\u001b[1;31m:\u001b[0m invalid syntax\n"
     ]
    }
   ],
   "source": [
    "pip install MetaTrader5 pandas numpy scikit-learn \n",
    "\n"
   ]
  },
  {
   "cell_type": "markdown",
   "metadata": {},
   "source": [
    "1.2 Instalar MetaTrader 5 e Configurar a Conta\n",
    "Baixe e instale o MetaTrader 5 no seu computador. Ao configurar, habilite a negociação algorítmica (Expert Advisors) nas configurações do MetaTrader.\n",
    "\n",
    "2. Coletar Dados do Mini-Índice Bovespa\n",
    "Antes de usar IA, o bot precisa de dados históricos para poder aprender e tomar decisões. O MetaTrader 5 (MT5) possui funções para acessar essas informações.\n",
    "\n",
    "2.1 Conectar ao MetaTrader 5\n",
    "Utilize o código Python para estabelecer uma conexão com o MT5:"
   ]
  },
  {
   "cell_type": "code",
   "execution_count": 2,
   "metadata": {},
   "outputs": [
    {
     "name": "stdout",
     "output_type": "stream",
     "text": [
      "Conectado ao MetaTrader 5\n"
     ]
    },
    {
     "ename": "KeyError",
     "evalue": "'time'",
     "output_type": "error",
     "traceback": [
      "\u001b[1;31m---------------------------------------------------------------------------\u001b[0m",
      "\u001b[1;31mKeyError\u001b[0m                                  Traceback (most recent call last)",
      "Cell \u001b[1;32mIn[2], line 17\u001b[0m\n\u001b[0;32m     15\u001b[0m \u001b[38;5;66;03m# Criar DataFrame\u001b[39;00m\n\u001b[0;32m     16\u001b[0m df \u001b[38;5;241m=\u001b[39m pd\u001b[38;5;241m.\u001b[39mDataFrame(rates)\n\u001b[1;32m---> 17\u001b[0m df[\u001b[38;5;124m'\u001b[39m\u001b[38;5;124mtime\u001b[39m\u001b[38;5;124m'\u001b[39m] \u001b[38;5;241m=\u001b[39m pd\u001b[38;5;241m.\u001b[39mto_datetime(\u001b[43mdf\u001b[49m\u001b[43m[\u001b[49m\u001b[38;5;124;43m'\u001b[39;49m\u001b[38;5;124;43mtime\u001b[39;49m\u001b[38;5;124;43m'\u001b[39;49m\u001b[43m]\u001b[49m, unit\u001b[38;5;241m=\u001b[39m\u001b[38;5;124m'\u001b[39m\u001b[38;5;124ms\u001b[39m\u001b[38;5;124m'\u001b[39m)\n\u001b[0;32m     19\u001b[0m \u001b[38;5;66;03m# Visualizar os dados\u001b[39;00m\n\u001b[0;32m     20\u001b[0m \u001b[38;5;28mprint\u001b[39m(df\u001b[38;5;241m.\u001b[39mhead())\n",
      "File \u001b[1;32mc:\\Users\\alexp\\AppData\\Local\\Programs\\Python\\Python313\\Lib\\site-packages\\pandas\\core\\frame.py:4102\u001b[0m, in \u001b[0;36mDataFrame.__getitem__\u001b[1;34m(self, key)\u001b[0m\n\u001b[0;32m   4100\u001b[0m \u001b[38;5;28;01mif\u001b[39;00m \u001b[38;5;28mself\u001b[39m\u001b[38;5;241m.\u001b[39mcolumns\u001b[38;5;241m.\u001b[39mnlevels \u001b[38;5;241m>\u001b[39m \u001b[38;5;241m1\u001b[39m:\n\u001b[0;32m   4101\u001b[0m     \u001b[38;5;28;01mreturn\u001b[39;00m \u001b[38;5;28mself\u001b[39m\u001b[38;5;241m.\u001b[39m_getitem_multilevel(key)\n\u001b[1;32m-> 4102\u001b[0m indexer \u001b[38;5;241m=\u001b[39m \u001b[38;5;28;43mself\u001b[39;49m\u001b[38;5;241;43m.\u001b[39;49m\u001b[43mcolumns\u001b[49m\u001b[38;5;241;43m.\u001b[39;49m\u001b[43mget_loc\u001b[49m\u001b[43m(\u001b[49m\u001b[43mkey\u001b[49m\u001b[43m)\u001b[49m\n\u001b[0;32m   4103\u001b[0m \u001b[38;5;28;01mif\u001b[39;00m is_integer(indexer):\n\u001b[0;32m   4104\u001b[0m     indexer \u001b[38;5;241m=\u001b[39m [indexer]\n",
      "File \u001b[1;32mc:\\Users\\alexp\\AppData\\Local\\Programs\\Python\\Python313\\Lib\\site-packages\\pandas\\core\\indexes\\range.py:417\u001b[0m, in \u001b[0;36mRangeIndex.get_loc\u001b[1;34m(self, key)\u001b[0m\n\u001b[0;32m    415\u001b[0m         \u001b[38;5;28;01mraise\u001b[39;00m \u001b[38;5;167;01mKeyError\u001b[39;00m(key) \u001b[38;5;28;01mfrom\u001b[39;00m\u001b[38;5;250m \u001b[39m\u001b[38;5;21;01merr\u001b[39;00m\n\u001b[0;32m    416\u001b[0m \u001b[38;5;28;01mif\u001b[39;00m \u001b[38;5;28misinstance\u001b[39m(key, Hashable):\n\u001b[1;32m--> 417\u001b[0m     \u001b[38;5;28;01mraise\u001b[39;00m \u001b[38;5;167;01mKeyError\u001b[39;00m(key)\n\u001b[0;32m    418\u001b[0m \u001b[38;5;28mself\u001b[39m\u001b[38;5;241m.\u001b[39m_check_indexing_error(key)\n\u001b[0;32m    419\u001b[0m \u001b[38;5;28;01mraise\u001b[39;00m \u001b[38;5;167;01mKeyError\u001b[39;00m(key)\n",
      "\u001b[1;31mKeyError\u001b[0m: 'time'"
     ]
    }
   ],
   "source": [
    "import MetaTrader5 as mt5\n",
    "import pandas as pd\n",
    "\n",
    "# Inicializar a conexão com o MT5\n",
    "if not mt5.initialize():\n",
    "    print(\"Erro ao conectar ao MetaTrader 5\")\n",
    "else:\n",
    "    print(\"Conectado ao MetaTrader 5\")\n",
    "\n",
    "# Obter dados históricos (últimos 100 candles de 5 minutos)\n",
    "symbol = \"WINM24\"  # Mini-índice Bovespa\n",
    "timeframe = mt5.TIMEFRAME_M5  # 5 minutos\n",
    "rates = mt5.copy_rates_from_pos(symbol, timeframe, 0, 100)\n",
    "\n",
    "# Criar DataFrame\n",
    "df = pd.DataFrame(rates)\n",
    "df['time'] = pd.to_datetime(df['time'], unit='s')\n",
    "\n",
    "# Visualizar os dados\n",
    "print(df.head())\n",
    "\n",
    "# Desconectar\n",
    "mt5.shutdown()\n"
   ]
  },
  {
   "cell_type": "markdown",
   "metadata": {},
   "source": [
    "3. Preparar os Dados para Treinamento de IA\n",
    "Os dados precisam ser limpos e formatados para treinar o modelo de IA. Geralmente, você usará indicadores técnicos como médias móveis, RSI, ou Bandas de Bollinger como features (características) para o modelo.\n",
    "\n",
    "3.1 Gerar Indicadores Técnicos\n",
    "Exemplo de como calcular médias móveis e RSI para alimentar seu modelo de IA:\n",
    "\n",
    "python\n",
    "Copiar\n",
    "    "
   ]
  },
  {
   "cell_type": "code",
   "execution_count": null,
   "metadata": {},
   "outputs": [],
   "source": [
    "import talib\n",
    "\n",
    "# Calcular média móvel de 50 e 200 períodos\n",
    "df['SMA50'] = talib.SMA(df['close'], timeperiod=50)\n",
    "df['SMA200'] = talib.SMA(df['close'], timeperiod=200)\n",
    "\n",
    "# Calcular o Índice de Força Relativa (RSI)\n",
    "df['RSI'] = talib.RSI(df['close'], timeperiod=14)\n",
    "\n",
    "# Visualizar dados com indicadores\n",
    "print(df[['time', 'close', 'SMA50', 'SMA200', 'RSI']].tail())\n"
   ]
  },
  {
   "cell_type": "markdown",
   "metadata": {},
   "source": [
    "4. Treinar o Modelo de IA\n",
    "Agora que você tem os dados e os indicadores prontos, é hora de treinar um modelo de IA.\n",
    "\n",
    "4.1 Pre-processar os Dados\n",
    "Você precisa dividir os dados em variáveis independentes (features) e dependentes (target). O target seria a direção do mercado (compra ou venda)."
   ]
  },
  {
   "cell_type": "code",
   "execution_count": null,
   "metadata": {},
   "outputs": [],
   "source": [
    "# Gerar variáveis independentes (features)\n",
    "X = df[['SMA50', 'SMA200', 'RSI']]\n",
    "\n",
    "# Gerar variável dependente (target)\n",
    "# 1 = Compra, -1 = Venda, 0 = Manter\n",
    "df['target'] = (df['close'].shift(-1) > df['close']).astype(int) * 2 - 1  # -1 para venda, 1 para compra\n",
    "\n",
    "# Remover NaN's\n",
    "X = X.dropna()\n",
    "y = df['target'].dropna()\n"
   ]
  },
  {
   "cell_type": "markdown",
   "metadata": {},
   "source": [
    "4.2 Dividir em Conjunto de Treinamento e Teste\n",
    "Divida os dados em conjunto de treinamento e teste:"
   ]
  },
  {
   "cell_type": "code",
   "execution_count": null,
   "metadata": {},
   "outputs": [],
   "source": [
    "from sklearn.model_selection import train_test_split\n",
    "\n",
    "# Dividir em treino e teste\n",
    "X_train, X_test, y_train, y_test = train_test_split(X, y, test_size=0.2, shuffle=False)\n"
   ]
  },
  {
   "cell_type": "markdown",
   "metadata": {},
   "source": [
    "4.3 Treinar o Modelo\n",
    "Utilize um modelo simples, como uma árvore de decisão ou uma rede neural:\n",
    "\n",
    "python\n",
    "Copiar\n"
   ]
  },
  {
   "cell_type": "code",
   "execution_count": null,
   "metadata": {},
   "outputs": [],
   "source": [
    "from sklearn.ensemble import RandomForestClassifier\n",
    "\n",
    "# Criar o modelo\n",
    "model = RandomForestClassifier(n_estimators=100, random_state=42)\n",
    "\n",
    "# Treinar o modelo\n",
    "model.fit(X_train, y_train)\n",
    "\n",
    "# Verificar a acurácia\n",
    "accuracy = model.score(X_test, y_test)\n",
    "print(f\"Acurácia do modelo: {accuracy:.2f}\")\n"
   ]
  },
  {
   "cell_type": "markdown",
   "metadata": {},
   "source": [
    "5. Implementar o Bot de Trading\n",
    "Agora que o modelo de IA está treinado, você pode implementá-lo para operar no MetaTrader 5.\n",
    "\n",
    "5.1 Prever Sinais de Compra/Venda\n",
    "Use o modelo treinado para prever sinais de compra e venda com os dados mais recentes:"
   ]
  },
  {
   "cell_type": "code",
   "execution_count": null,
   "metadata": {},
   "outputs": [],
   "source": [
    "# Obter os dados mais recentes do mercado\n",
    "rates = mt5.copy_rates_from_pos(symbol, timeframe, 0, 1)\n",
    "df_latest = pd.DataFrame(rates)\n",
    "df_latest['SMA50'] = talib.SMA(df_latest['close'], timeperiod=50)\n",
    "df_latest['SMA200'] = talib.SMA(df_latest['close'], timeperiod=200)\n",
    "df_latest['RSI'] = talib.RSI(df_latest['close'], timeperiod=14)\n",
    "\n",
    "# Fazer a previsão\n",
    "prediction = model.predict(df_latest[['SMA50', 'SMA200', 'RSI']])\n",
    "if prediction == 1:\n",
    "    print(\"Sinal de COMPRA\")\n",
    "elif prediction == -1:\n",
    "    print(\"Sinal de VENDA\")\n",
    "else:\n",
    "    print(\"Sem sinal (MANTER)\")\n"
   ]
  },
  {
   "cell_type": "markdown",
   "metadata": {},
   "source": [
    "5.2 Enviar Ordens de Compra/Venda\n",
    "Com base na previsão, envie ordens ao MetaTrader 5:"
   ]
  },
  {
   "cell_type": "code",
   "execution_count": null,
   "metadata": {},
   "outputs": [],
   "source": [
    "def send_order(action):\n",
    "    price = mt5.symbol_info_tick(symbol).ask if action == \"BUY\" else mt5.symbol_info_tick(symbol).bid\n",
    "    order_type = mt5.ORDER_TYPE_BUY if action == \"BUY\" else mt5.ORDER_TYPE_SELL\n",
    "\n",
    "    request = {\n",
    "        \"action\": mt5.TRADE_ACTION_DEAL,\n",
    "        \"symbol\": symbol,\n",
    "        \"volume\": 1.0,  # Lote\n",
    "        \"type\": order_type,\n",
    "        \"price\": price,\n",
    "        \"deviation\": 20,\n",
    "        \"magic\": 0,\n",
    "        \"comment\": \"Bot com IA\",\n",
    "        \"type_time\": mt5.ORDER_TIME_GTC,\n",
    "        \"type_filling\": mt5.ORDER_FILLING_IOC\n",
    "    }\n",
    "\n",
    "    result = mt5.order_send(request)\n",
    "    if result.retcode != mt5.TRADE_RETCODE_DONE:\n",
    "        print(f\"Erro ao executar ordem: {result.comment}\")\n",
    "    else:\n",
    "        print(f\"Ordem {action} enviada com sucesso!\")\n",
    "\n",
    "# Enviar uma ordem de acordo com a previsão\n",
    "if prediction == 1:\n",
    "    send_order(\"BUY\")\n",
    "elif prediction == -1:\n",
    "    send_order(\"SELL\")\n"
   ]
  },
  {
   "cell_type": "markdown",
   "metadata": {},
   "source": [
    "6. Automatizar a Execução\n",
    "Você pode automatizar a execução em um loop contínuo para monitorar o mercado e tomar decisões em tempo real:"
   ]
  },
  {
   "cell_type": "code",
   "execution_count": null,
   "metadata": {},
   "outputs": [],
   "source": [
    "import time\n",
    "\n",
    "while True:\n",
    "    # Obter os dados mais recentes e prever a ação\n",
    "    rates = mt5.copy_rates_from_pos(symbol, timeframe, 0, 1)\n",
    "    df_latest = pd.DataFrame(rates)\n",
    "    df_latest['SMA50'] = talib.SMA(df_latest['close'], timeperiod=50)\n",
    "    df_latest['SMA200'] = talib.SMA(df_latest['close'], timeperiod=200)\n",
    "    df_latest['RSI'] = talib.RSI(df_latest['close'], timeperiod=14)\n",
    "    \n",
    "    prediction = model.predict(df_latest[['SMA50', 'SMA200', 'RSI']])\n",
    "    \n",
    "    if prediction == 1:\n",
    "        send_order(\"BUY\")\n",
    "    elif prediction == -1:\n",
    "        send_order(\"SELL\")\n",
    "    \n",
    "    time.sleep(60)  # Aguardar 60 segundos antes de tomar a próxima ação\n"
   ]
  },
  {
   "cell_type": "markdown",
   "metadata": {},
   "source": [
    "7. Testar e Otimizar\n",
    "Antes de rodar o bot em uma conta real, testar com dados históricos (backtesting) e em uma conta demo é fundamental para garantir que o bot funcione corretamente e para evitar perdas inesperadas."
   ]
  },
  {
   "cell_type": "markdown",
   "metadata": {},
   "source": [
    "Conclusão\n",
    "Com esses passos, você consegue criar um bot de trading utilizando IA para operar no mini-índice Bovespa. Claro, a parte mais desafiadora é a criação de um modelo de IA eficaz, o que envolve a escolha de bons indicadores, o treinamento adequado do modelo e o monitoramento constante para ajustes.\n",
    "\n",
    "Se precisar de mais detalhes ou ajustes, é só avisar!"
   ]
  },
  {
   "cell_type": "markdown",
   "metadata": {},
   "source": [
    "https://chatgpt.com/share/679ca50d-caa4-8003-b705-9be3866862e4"
   ]
  }
 ],
 "metadata": {
  "kernelspec": {
   "display_name": "Python 3",
   "language": "python",
   "name": "python3"
  },
  "language_info": {
   "codemirror_mode": {
    "name": "ipython",
    "version": 3
   },
   "file_extension": ".py",
   "mimetype": "text/x-python",
   "name": "python",
   "nbconvert_exporter": "python",
   "pygments_lexer": "ipython3",
   "version": "3.13.0"
  }
 },
 "nbformat": 4,
 "nbformat_minor": 2
}
